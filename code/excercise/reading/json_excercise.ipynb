{
 "cells": [
  {
   "cell_type": "code",
   "execution_count": 1,
   "metadata": {},
   "outputs": [],
   "source": [
    "import numpy as pd\n",
    "import pandas as pd\n",
    "import json\n",
    "from pandas import json_normalize\n",
    "url_json = 'https://raw.githubusercontent.com/krishnatray/RDP-Reading-Data-with-Python-and-Pandas/master/unit-1-reading-data-with-python-and-pandas/lesson-10-artists-nested-biography/files/artists.json'"
   ]
  },
  {
   "cell_type": "code",
   "execution_count": 4,
   "metadata": {},
   "outputs": [],
   "source": [
    "import urllib.request as request\n",
    "\n",
    "with request.urlopen(url_json) as f:\n",
    "    artist_json = json.loads(f.read().decode())\n"
   ]
  },
  {
   "cell_type": "code",
   "execution_count": 5,
   "metadata": {},
   "outputs": [
    {
     "data": {
      "text/plain": [
       "[{'name': 'Amedeo Modigliani',\n",
       "  'years': '1884 - 1920',\n",
       "  'genre': 'Expressionism',\n",
       "  'nationality': 'Italian',\n",
       "  'bio': [{'full name': 'Amedeo Clemente Modigliani',\n",
       "    'pronunciation': '[ameˈdɛːo modiʎˈʎaːni]',\n",
       "    'life span': '12 July 1884 – 24 January 1920',\n",
       "    'info': \"was an Italian Jewish painter and sculptor who worked mainly in France. He is known for portraits and nudes in a modern style characterized by elongation of faces, necks, and figures that were not received well during his lifetime but later found acceptance. Modigliani spent his youth in Italy, where he studied the art of antiquity and the Renaissance. In 1906 he moved to Paris, where he came into contact with such artists as Pablo Picasso and Constantin Brâncuși. By 1912 Modigliani was exhibiting highly stylized sculptures with Cubists of the Section d'Or group at the Salon d'Automne.\",\n",
       "    'wikipedia': 'http://en.wikipedia.org/wiki/Amedeo_Modigliani',\n",
       "    'paintings': 193}]},\n",
       " {'name': 'Vasiliy Kandinskiy',\n",
       "  'years': '1866 - 1944',\n",
       "  'genre': 'Expressionism,Abstractionism',\n",
       "  'nationality': 'Russian',\n",
       "  'bio': [{'full name': 'Wassily Wassilyevich Kandinsky',\n",
       "    'pronunciation': 'Васи́лий Васи́льевич Канди́нский, tr. Vasíliy Vasílʹevich Kandínskiy',\n",
       "    'life span': '16 December [O.S. 4 December] 1866 – 13 December 1944',\n",
       "    'info': 'was a Russian painter and art theorist.',\n",
       "    'wikipedia': 'http://en.wikipedia.org/wiki/Wassily_Kandinsky',\n",
       "    'paintings': 88}]},\n",
       " {'name': 'Diego Rivera',\n",
       "  'years': '1886 - 1957',\n",
       "  'genre': 'Social Realism,Muralism',\n",
       "  'nationality': 'Mexican',\n",
       "  'bio': [{'full name': 'Diego María de la Concepción Juan Nepomuceno Estanislao de la Rivera y Barrientos Acosta y Rodríguez, known as Diego Rivera',\n",
       "    'pronunciation': '[ˈdjeɣo riˈβeɾa]',\n",
       "    'life span': 'December 8, 1886 – November 24, 1957',\n",
       "    'info': 'was a prominent Mexican painter. His large frescoes helped establish the Mexican mural movement in Mexican art. Between 1922 and 1953, Rivera painted murals in, among other places, Mexico City, Chapingo, Cuernavaca, San Francisco, Detroit, and New York City. In 1931, a retrospective exhibition of his works was held at the Museum of Modern Art in New York. Rivera had a volatile marriage with fellow Mexican artist Frida Kahlo.',\n",
       "    'wikipedia': 'http://en.wikipedia.org/wiki/Diego_Rivera',\n",
       "    'paintings': 70}]},\n",
       " {'name': 'Claude Monet',\n",
       "  'years': '1840 - 1926',\n",
       "  'genre': 'Impressionism',\n",
       "  'nationality': 'French',\n",
       "  'bio': [{'full name': 'Oscar-Claude Monet',\n",
       "    'pronunciation': '[klod mɔnɛ]',\n",
       "    'life span': '14 November 1840 – 5 December 1926',\n",
       "    'info': \"was a French painter, a founder of French Impressionist painting and the most consistent and prolific practitioner of the movement's philosophy of expressing one's perceptions before nature, especially as applied to plein air landscape painting. The term 'Impressionism' is derived from the title of his painting Impression, soleil levant (Impression, Sunrise), which was exhibited in 1874 in the first of the independent exhibitions mounted by Monet and his associates as an alternative to the Salon de Paris.Monet's ambition of documenting the French countryside led him to adopt a method of painting the same scene many times in order to capture the changing of light and the passing of the seasons. From 1883, Monet lived in Giverny, where he purchased a house and property and began a vast landscaping project which included lily ponds that would become the subjects of his best-known works. In 1899, he began painting the water lilies, first in vertical views with a Japanese bridge as a central feature and later in the series of large-scale paintings that was to occupy him continuously for the next 20 years of his life.\",\n",
       "    'wikipedia': 'http://en.wikipedia.org/wiki/Claude_Monet',\n",
       "    'paintings': 73}]},\n",
       " {'name': 'Rene Magritte',\n",
       "  'years': '1898 - 1967',\n",
       "  'genre': 'Surrealism,Impressionism',\n",
       "  'nationality': 'Belgian',\n",
       "  'bio': [{'full name': 'René François Ghislain Magritte',\n",
       "    'pronunciation': '[ʁəne fʁɑ̃swa ɡilɛ̃ maɡʁit]',\n",
       "    'life span': '21 November 1898 – 15 August 1967',\n",
       "    'info': \"Was a Belgian Surrealist artist. He became well known for creating a number of witty and thought-provoking images. Often depicting ordinary objects in an unusual context, his work is known for challenging observers' preconditioned perceptions of reality. His imagery has influenced Pop art, minimalist and conceptual art.\",\n",
       "    'wikipedia': 'http://en.wikipedia.org/wiki/René_Magritte',\n",
       "    'paintings': 194}]}]"
      ]
     },
     "execution_count": 5,
     "metadata": {},
     "output_type": "execute_result"
    }
   ],
   "source": [
    "artist_json"
   ]
  },
  {
   "cell_type": "code",
   "execution_count": 12,
   "metadata": {},
   "outputs": [
    {
     "data": {
      "text/html": [
       "<div>\n",
       "<style scoped>\n",
       "    .dataframe tbody tr th:only-of-type {\n",
       "        vertical-align: middle;\n",
       "    }\n",
       "\n",
       "    .dataframe tbody tr th {\n",
       "        vertical-align: top;\n",
       "    }\n",
       "\n",
       "    .dataframe thead th {\n",
       "        text-align: right;\n",
       "    }\n",
       "</style>\n",
       "<table border=\"1\" class=\"dataframe\">\n",
       "  <thead>\n",
       "    <tr style=\"text-align: right;\">\n",
       "      <th></th>\n",
       "      <th>name</th>\n",
       "      <th>years</th>\n",
       "      <th>genre</th>\n",
       "      <th>nationality</th>\n",
       "      <th>bio</th>\n",
       "    </tr>\n",
       "  </thead>\n",
       "  <tbody>\n",
       "    <tr>\n",
       "      <th>0</th>\n",
       "      <td>Amedeo Modigliani</td>\n",
       "      <td>1884 - 1920</td>\n",
       "      <td>Expressionism</td>\n",
       "      <td>Italian</td>\n",
       "      <td>[{'full name': 'Amedeo Clemente Modigliani', '...</td>\n",
       "    </tr>\n",
       "    <tr>\n",
       "      <th>1</th>\n",
       "      <td>Vasiliy Kandinskiy</td>\n",
       "      <td>1866 - 1944</td>\n",
       "      <td>Expressionism,Abstractionism</td>\n",
       "      <td>Russian</td>\n",
       "      <td>[{'full name': 'Wassily Wassilyevich Kandinsky...</td>\n",
       "    </tr>\n",
       "    <tr>\n",
       "      <th>2</th>\n",
       "      <td>Diego Rivera</td>\n",
       "      <td>1886 - 1957</td>\n",
       "      <td>Social Realism,Muralism</td>\n",
       "      <td>Mexican</td>\n",
       "      <td>[{'full name': 'Diego María de la Concepción J...</td>\n",
       "    </tr>\n",
       "    <tr>\n",
       "      <th>3</th>\n",
       "      <td>Claude Monet</td>\n",
       "      <td>1840 - 1926</td>\n",
       "      <td>Impressionism</td>\n",
       "      <td>French</td>\n",
       "      <td>[{'full name': 'Oscar-Claude Monet', 'pronunci...</td>\n",
       "    </tr>\n",
       "    <tr>\n",
       "      <th>4</th>\n",
       "      <td>Rene Magritte</td>\n",
       "      <td>1898 - 1967</td>\n",
       "      <td>Surrealism,Impressionism</td>\n",
       "      <td>Belgian</td>\n",
       "      <td>[{'full name': 'René François Ghislain Magritt...</td>\n",
       "    </tr>\n",
       "  </tbody>\n",
       "</table>\n",
       "</div>"
      ],
      "text/plain": [
       "                 name        years                         genre nationality  \\\n",
       "0   Amedeo Modigliani  1884 - 1920                 Expressionism     Italian   \n",
       "1  Vasiliy Kandinskiy  1866 - 1944  Expressionism,Abstractionism     Russian   \n",
       "2        Diego Rivera  1886 - 1957       Social Realism,Muralism     Mexican   \n",
       "3        Claude Monet  1840 - 1926                 Impressionism      French   \n",
       "4       Rene Magritte  1898 - 1967      Surrealism,Impressionism     Belgian   \n",
       "\n",
       "                                                 bio  \n",
       "0  [{'full name': 'Amedeo Clemente Modigliani', '...  \n",
       "1  [{'full name': 'Wassily Wassilyevich Kandinsky...  \n",
       "2  [{'full name': 'Diego María de la Concepción J...  \n",
       "3  [{'full name': 'Oscar-Claude Monet', 'pronunci...  \n",
       "4  [{'full name': 'René François Ghislain Magritt...  "
      ]
     },
     "execution_count": 12,
     "metadata": {},
     "output_type": "execute_result"
    }
   ],
   "source": [
    "artist=json_normalize(artist_json)\n",
    "artist"
   ]
  },
  {
   "cell_type": "code",
   "execution_count": 16,
   "metadata": {},
   "outputs": [
    {
     "data": {
      "text/html": [
       "<div>\n",
       "<style scoped>\n",
       "    .dataframe tbody tr th:only-of-type {\n",
       "        vertical-align: middle;\n",
       "    }\n",
       "\n",
       "    .dataframe tbody tr th {\n",
       "        vertical-align: top;\n",
       "    }\n",
       "\n",
       "    .dataframe thead th {\n",
       "        text-align: right;\n",
       "    }\n",
       "</style>\n",
       "<table border=\"1\" class=\"dataframe\">\n",
       "  <thead>\n",
       "    <tr style=\"text-align: right;\">\n",
       "      <th></th>\n",
       "      <th>0</th>\n",
       "    </tr>\n",
       "  </thead>\n",
       "  <tbody>\n",
       "    <tr>\n",
       "      <th>0</th>\n",
       "      <td>{'full name': 'Amedeo Clemente Modigliani', 'p...</td>\n",
       "    </tr>\n",
       "    <tr>\n",
       "      <th>1</th>\n",
       "      <td>{'full name': 'Wassily Wassilyevich Kandinsky'...</td>\n",
       "    </tr>\n",
       "    <tr>\n",
       "      <th>2</th>\n",
       "      <td>{'full name': 'Diego María de la Concepción Ju...</td>\n",
       "    </tr>\n",
       "    <tr>\n",
       "      <th>3</th>\n",
       "      <td>{'full name': 'Oscar-Claude Monet', 'pronuncia...</td>\n",
       "    </tr>\n",
       "    <tr>\n",
       "      <th>4</th>\n",
       "      <td>{'full name': 'René François Ghislain Magritte...</td>\n",
       "    </tr>\n",
       "  </tbody>\n",
       "</table>\n",
       "</div>"
      ],
      "text/plain": [
       "                                                   0\n",
       "0  {'full name': 'Amedeo Clemente Modigliani', 'p...\n",
       "1  {'full name': 'Wassily Wassilyevich Kandinsky'...\n",
       "2  {'full name': 'Diego María de la Concepción Ju...\n",
       "3  {'full name': 'Oscar-Claude Monet', 'pronuncia...\n",
       "4  {'full name': 'René François Ghislain Magritte..."
      ]
     },
     "execution_count": 16,
     "metadata": {},
     "output_type": "execute_result"
    }
   ],
   "source": [
    "biography = json_normalize(artist.bio)\n",
    "biography"
   ]
  }
 ],
 "metadata": {
  "kernelspec": {
   "display_name": "env",
   "language": "python",
   "name": "python3"
  },
  "language_info": {
   "codemirror_mode": {
    "name": "ipython",
    "version": 3
   },
   "file_extension": ".py",
   "mimetype": "text/x-python",
   "name": "python",
   "nbconvert_exporter": "python",
   "pygments_lexer": "ipython3",
   "version": "3.11.5"
  }
 },
 "nbformat": 4,
 "nbformat_minor": 2
}
